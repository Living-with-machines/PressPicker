{
 "cells": [
  {
   "cell_type": "markdown",
   "metadata": {},
   "source": [
    "# Step02: Interface for selecting newspaper titles\n",
    "\n",
    "This is step 02 of the **PressPicker** tool.\n",
    "\n",
    "### Setup\n",
    "Your local directory should look like:\n",
    "\n",
    "```bash\n",
    ".\n",
    "├── Step02_visualisation.ipynb\n",
    "├── Utils_Step02_visualisation.css.html\n",
    "├── Utils_Step02_visualisation.js\n",
    "├── datasets\n",
    "│   ├── dynamic_io\n",
    "│   │   ├── counties.csv\n",
    "│   │   ├── timeseries_items_hc.csv\n",
    "│   │   ├── timeseries_items_mf.csv\n",
    "│   │   ├── titles.csv\n",
    "│   │   ├── titles_hc.csv\n",
    "│   │   └── titles_mf.csv\n",
    "│   ├── previous_selections_to_exclude\n",
    "│   │   ├── Jon-selection-streams4-7.xlsx\n",
    "│   │   ├── Jon_hardcopySelection_Aug2019_withSublibrary.csv\n",
    "│   │   ├── Jon_microfilmSelection_Aug2019.csv\n",
    "│   │   ├── Picklist_8_CaseStudy_reviewed.xlsx\n",
    "│   └── ...\n",
    "└── ...\n",
    "```\n",
    "\n",
    "If you don't have any these files, please contact one of the developers.\n",
    "\n",
    "---\n",
    "\n",
    "**Note (for developers):** `timeseries_items_hc.csv` and `timeseries_items_mf.csv` are generated in `Step01_filtering_processing_newspapers.ipynb` notebook. Refer to the 'Outputs' cell where:\n",
    "\n",
    "```python\n",
    "timeseries_items_mf.to_csv(os.path.join(parent_path, \"timeseries_items_mf.csv\"))\n",
    "timeseries_items_hc.to_csv(os.path.join(parent_path, \"timeseries_items_hc.csv\"))\n",
    "```\n",
    "\n",
    "---\n",
    "\n",
    "### Installation\n",
    "1. `pandas` can be installed via `pip`:\n",
    "\n",
    "```bash\n",
    "pip install pandas\n",
    "```\n",
    "\n",
    "Refer to https://pandas.pydata.org/pandas-docs/stable/install.html for more information."
   ]
  },
  {
   "cell_type": "markdown",
   "metadata": {},
   "source": [
    "### Import Python modules, JavaScript libraries and external code files"
   ]
  },
  {
   "cell_type": "code",
   "execution_count": null,
   "metadata": {},
   "outputs": [],
   "source": [
    "import numpy as np\n",
    "from IPython.display import display, Javascript, HTML, Image\n",
    "import os\n",
    "import pandas as pd\n",
    "import ipywidgets as widgets\n",
    "from ipywidgets import Layout\n",
    "\n",
    "# show all columns/rows of the dataframes\n",
    "pd.set_option('display.max_columns', None)\n",
    "pd.set_option('display.max_rows', None)\n",
    "pd.options.mode.chained_assignment = None  # default='warn'\n",
    "\n",
    "display(HTML(\"<style>.container { width:100% !important; }</style>\"))"
   ]
  },
  {
   "cell_type": "markdown",
   "metadata": {},
   "source": [
    "Load in the D3.js visualisation library and the visualisation .js and .html files:"
   ]
  },
  {
   "cell_type": "code",
   "execution_count": null,
   "metadata": {},
   "outputs": [],
   "source": [
    "%%javascript\n",
    "require.config({\n",
    "    paths: {\n",
    "        d3: 'https://d3js.org/d3.v5.min'\n",
    "    }\n",
    "});"
   ]
  },
  {
   "cell_type": "code",
   "execution_count": null,
   "metadata": {},
   "outputs": [],
   "source": [
    "display(HTML(filename=\"Utils_Step02_visualisation.css.html\"))\n",
    "Javascript(filename='Utils_Step02_visualisation.js')"
   ]
  },
  {
   "cell_type": "markdown",
   "metadata": {},
   "source": [
    "### Import datasets: `titles.csv`, `timeseries_mf.csv`, `timeseries_hc.csv`, `counties.csv`, `titles_hc.csv`, `titles_mf.csv`"
   ]
  },
  {
   "cell_type": "code",
   "execution_count": null,
   "metadata": {},
   "outputs": [],
   "source": [
    "# Paths to data\n",
    "path2datasets = \"datasets\"\n",
    "path2dynamicData = os.path.join(path2datasets, \"dynamic_io\")\n",
    "path2previousSelections = os.path.join(path2datasets, \"previous_selections_to_exclude\")"
   ]
  },
  {
   "cell_type": "code",
   "execution_count": null,
   "metadata": {},
   "outputs": [],
   "source": [
    "# read in titles.csv, hc and mf timeseries csvs, and counties csv\n",
    "titles = pd.read_csv(os.path.join(path2dynamicData, \"titles.csv\"), dtype=str, index_col=0)\n",
    "\n",
    "timeseries_mf = pd.read_csv(os.path.join(path2dynamicData, \"timeseries_items_mf.csv\"), dtype=str, index_col=0)\n",
    "timeseries_hc = pd.read_csv(os.path.join(path2dynamicData, \"timeseries_items_hc.csv\"), dtype=str, index_col=0)\n",
    "timeseries_mf.index = timeseries_mf.index.to_series().apply(lambda x: '{0:0>9}'.format(x))\n",
    "timeseries_hc.index = timeseries_hc.index.to_series().apply(lambda x: '{0:0>9}'.format(x))\n",
    "\n",
    "records_hc = pd.read_csv(os.path.join(path2dynamicData, \"titles_hc.csv\"), dtype=str, index_col=0)\n",
    "records_hc = records_hc[['Title.ID','Publication title', 'ITEM or VIT', 'Barcode', 'Item Status', 'Chron I','Chron J','Chron K','Enum A','Enum B','Enum C','sublibrary']]\n",
    "# order by date\n",
    "records_hc = records_hc.sort_values(by=['Chron I'])\n",
    "records_mf = pd.read_csv(os.path.join(path2dynamicData, \"titles_mf.csv\"), dtype=str, index_col=0)\n",
    "records_mf = records_mf[['Title.ID', 'Publication title','edition','locale','canNo','startReel','endReel','startDate','endDate','duplicate','LastModifiedOn','NewspaperItemID','TitleItemID','HoldingItemID']]\n",
    "records_mf = records_mf.sort_values(by=['startDate'])\n",
    "\n",
    "print(\"Loaded in %s titles\" %len(titles))\n",
    "print(\"%s mf timeseries\" %len(timeseries_mf))\n",
    "print(\"%s hc timeseries\" %len(timeseries_hc))"
   ]
  },
  {
   "cell_type": "code",
   "execution_count": null,
   "metadata": {},
   "outputs": [],
   "source": [
    "# Load in the titles to corrected counties dataset\n",
    "if os.path.isfile(os.path.join(path2dynamicData, \"counties.csv\")):\n",
    "    titles_counties = pd.read_csv(os.path.join(path2dynamicData, \"counties.csv\"), dtype=str, index_col=0)\n",
    "else:\n",
    "    print(f\"[ERROR] cannot not find {os.path.join(path2dynamicData, 'counties.csv')}. Have you run 'Preprocess_county_dataset' notebook?\")"
   ]
  },
  {
   "cell_type": "markdown",
   "metadata": {},
   "source": [
    "### Exclude prior selections"
   ]
  },
  {
   "cell_type": "code",
   "execution_count": null,
   "metadata": {},
   "outputs": [],
   "source": [
    "# read in Jon's previous selections\n",
    "# WARNING - make sure the Title.IDs in the csv begin with a 0, or they will not be excluded\n",
    "titles_mf_alreadyChosen_1 = pd.read_csv(os.path.join(path2previousSelections, \"Jon_microfilmSelection_Aug2019.csv\"), dtype=str)\n",
    "titles_hc_alreadyChosen_1 = pd.read_csv(os.path.join(path2previousSelections, \"Jon_hardcopySelection_Aug2019_withSublibrary.csv\"), dtype=str)\n",
    "titles_alreadyChosen_2 = pd.read_excel(os.path.join(path2previousSelections, \"Jon-selection-streams4-7.xlsx\"), sheet_name='Sheet1', dtype=str)\n",
    "# Add leading zeros back on to Title.IDs\n",
    "titles_alreadyChosen_2['Title.ID'] = titles_alreadyChosen_2['Title.ID'].apply(lambda x: '{0:0>9}'.format(x))\n",
    "\n",
    "titles_alreadyChosen_3 = pd.read_excel(os.path.join(path2previousSelections, \"Picklist_8_CaseStudy_reviewed.xlsx\"), sheet_name='Overview', dtype=str)\n",
    "titles_alreadyChosen_3['Title ID'] = titles_alreadyChosen_3['Title ID'].apply(lambda x: '{0:0>9}'.format(x))\n",
    "# Rename id column Title.ID\n",
    "titles_alreadyChosen_3.rename(columns = {'Title ID':'Title.ID'}, inplace = True)\n",
    "\n",
    "# Concatenate all selections\n",
    "titles_alreadyChosen = pd.concat([titles_mf_alreadyChosen_1, titles_hc_alreadyChosen_1, titles_alreadyChosen_2, titles_alreadyChosen_3, \\\n",
    "                                 ], sort=False)\n",
    "\n",
    "# Create list of unique Title.IDs to exclude\n",
    "titles_alreadyChosen_unique_ids = titles_alreadyChosen['Title.ID'].unique()\n",
    "print(\"Exclude %s titles (from previous selections)\" % len(titles_alreadyChosen_unique_ids))"
   ]
  },
  {
   "cell_type": "code",
   "execution_count": null,
   "metadata": {},
   "outputs": [],
   "source": [
    "# Exclude Jon's selections from titles, timeseries_mf, timeseries_hc\n",
    "titles = titles[~titles['Title.ID'].isin(titles_alreadyChosen_unique_ids)]\n",
    "timeseries_mf = timeseries_mf[~timeseries_mf.index.isin(titles_alreadyChosen_unique_ids)]\n",
    "timeseries_hc = timeseries_hc[~timeseries_hc.index.isin(titles_alreadyChosen_unique_ids)]\n",
    "print(\"Remaining %s titles\" % len(titles))\n",
    "print(\"%s mf timeseries\" % len(timeseries_mf))\n",
    "print(\"%s hc timeseries\" % len(timeseries_hc))"
   ]
  },
  {
   "cell_type": "markdown",
   "metadata": {},
   "source": [
    "### County dataset processing"
   ]
  },
  {
   "cell_type": "code",
   "execution_count": null,
   "metadata": {},
   "outputs": [],
   "source": [
    "# filter county dataset to only those in 'titles'\n",
    "titles_counties = titles_counties[titles_counties['Title.ID'].isin(titles['Title.ID'].unique())]"
   ]
  },
  {
   "cell_type": "code",
   "execution_count": null,
   "metadata": {},
   "outputs": [],
   "source": [
    "county_ids = titles_counties.groupby('corrected_county')[\"Title.ID\"].apply(list)\n",
    "county_sum = titles_counties.groupby(['corrected_county']).agg({'Title.ID': 'count'})\n",
    "county_sum = county_sum.rename(columns={\"Title.ID\": \"count\"})\n",
    "county_merge = pd.merge(county_sum, county_ids, left_index=True, right_index=True)"
   ]
  },
  {
   "cell_type": "code",
   "execution_count": null,
   "metadata": {},
   "outputs": [],
   "source": [
    "print(('total newspapers in counties dataset = %s') % county_merge['count'].sum())    "
   ]
  },
  {
   "cell_type": "code",
   "execution_count": null,
   "metadata": {},
   "outputs": [],
   "source": [
    "# convert to dictionary \n",
    "county_merge_dict = county_merge.to_dict(orient =\"index\")"
   ]
  },
  {
   "cell_type": "code",
   "execution_count": null,
   "metadata": {},
   "outputs": [],
   "source": [
    "counties_forWidget = {}\n",
    "for key, value in county_merge_dict.items():\n",
    "    counties_forWidget[key + ' - ' + str(value['count'])] = value['Title.ID']"
   ]
  },
  {
   "cell_type": "markdown",
   "metadata": {},
   "source": [
    "# Choose county\n",
    "Select one or more counties from the menu produced by the following cell. Multiple values can be selected with shift and/or ctrl (or command) pressed and mouse clicks or arrow keys.\n",
    "\n",
    "You can return to select different counties to visualise, but need to re-run the cell below ('Filter data by county/ies') too. "
   ]
  },
  {
   "cell_type": "code",
   "execution_count": null,
   "metadata": {
    "scrolled": true
   },
   "outputs": [],
   "source": [
    "w = widgets.SelectMultiple(\n",
    "    options=counties_forWidget,\n",
    "    description='County:',\n",
    "    disabled=False,\n",
    "    layout=Layout(width='500px', height='200px')\n",
    ")\n",
    "display(w)"
   ]
  },
  {
   "cell_type": "markdown",
   "metadata": {},
   "source": [
    "### Filter data by county/ies"
   ]
  },
  {
   "cell_type": "code",
   "execution_count": null,
   "metadata": {},
   "outputs": [],
   "source": [
    "# access IDs for selected county and convert into a list\n",
    "ids_for_county =list(w.value)\n",
    "ids_for_county = [j for i in ids_for_county for j in i]\n",
    "\n",
    "# filter titles, timeseries_mf, timeseries_hc by county\n",
    "titles_countyFilter = titles[titles['Title.ID'].isin(ids_for_county)]\n",
    "timeseries_mf_countyFilter = timeseries_mf[timeseries_mf.index.isin(ids_for_county)]\n",
    "timeseries_hc_countyFilter = timeseries_hc[timeseries_hc.index.isin(ids_for_county)]\n",
    "print('filtered to %s titles' % len(titles_countyFilter))\n",
    "\n",
    "# save datasets in json format for visualising\n",
    "titles_countyFilter.to_json(os.path.join(path2dynamicData, r'titles.json'), orient=\"records\")\n",
    "timeseries_mf_countyFilter.to_json(os.path.join(path2dynamicData, r'timeseries_items_mf.json'),orient=\"index\")\n",
    "timeseries_hc_countyFilter.to_json(os.path.join(path2dynamicData, r'timeseries_items_hc.json'),orient=\"index\")"
   ]
  },
  {
   "cell_type": "markdown",
   "metadata": {},
   "source": [
    "# Visualise"
   ]
  },
  {
   "cell_type": "code",
   "execution_count": null,
   "metadata": {
    "scrolled": true
   },
   "outputs": [],
   "source": [
    "Javascript(\"\"\"\n",
    "(function(element){\n",
    "    require(['newspaper_viz'], function(newspaper_viz) {\n",
    "        newspaper_viz(element.get(0))\n",
    "    });\n",
    "})(element);\n",
    "\"\"\")"
   ]
  },
  {
   "cell_type": "markdown",
   "metadata": {},
   "source": [
    "### Uncheck boxes\n",
    "Run the cell below to uncheck all check boxes (can run this as many times as you like): "
   ]
  },
  {
   "cell_type": "code",
   "execution_count": null,
   "metadata": {},
   "outputs": [],
   "source": [
    "# Uncheck all check boxes\n",
    "Javascript(\"\"\"\n",
    "var checkboxes = new Array(); \n",
    "var checktoggle = false;\n",
    "checkboxes = document.getElementsByClassName(\"title_checkBox\");\n",
    "for (var i=0; i<checkboxes.length; i++)  {\n",
    "    if (checkboxes[i].type == 'checkbox')   {\n",
    "      checkboxes[i].checked = checktoggle;\n",
    "    }\n",
    "}\n",
    "\"\"\")"
   ]
  },
  {
   "cell_type": "markdown",
   "metadata": {},
   "source": [
    "### List selected microfilms\n",
    "\n",
    "In the following cell, some info about the selected microfilms will be shown. "
   ]
  },
  {
   "cell_type": "code",
   "execution_count": null,
   "metadata": {
    "scrolled": true
   },
   "outputs": [],
   "source": [
    "try:\n",
    "    selected_IDs_list\n",
    "except NameError:\n",
    "    print(\"[WARNING] selected_IDs_list is not defined. Have you selected any titles?\")"
   ]
  },
  {
   "cell_type": "code",
   "execution_count": null,
   "metadata": {},
   "outputs": [],
   "source": [
    "if isinstance(selected_IDs_list, str):\n",
    "    selected_IDs_list = selected_IDs_list.split(\",\")\n",
    "selected_titles_microfilm = records_mf[records_mf['Title.ID'].isin(selected_IDs_list)]\n",
    "print(\"#Selected unique titles: %s\" % len(selected_IDs_list))\n",
    "print(\"#Selected microfilms: {}\".format(selected_titles_microfilm.shape[0]))\n",
    "selected_titles_microfilm"
   ]
  },
  {
   "cell_type": "markdown",
   "metadata": {},
   "source": [
    "### List selected hardcopies\n",
    "\n",
    "In the following cell, some info about the selected hardcopies will be shown. "
   ]
  },
  {
   "cell_type": "code",
   "execution_count": null,
   "metadata": {
    "scrolled": true
   },
   "outputs": [],
   "source": [
    "# Get the hardcopy records for the selected IDs\n",
    "if isinstance(selected_IDs_list, str):\n",
    "    selected_IDs_list = selected_IDs_list.split(\",\")\n",
    "\n",
    "selected_titles_hardcopy = records_hc[records_hc['Title.ID'].isin(selected_IDs_list)]\n",
    "print(\"#Selected hardcopies: {}\".format(selected_titles_hardcopy.shape[0]))\n",
    "selected_titles_hardcopy"
   ]
  },
  {
   "cell_type": "markdown",
   "metadata": {},
   "source": [
    "### OUTPUT\n",
    "\n",
    "If you are happy with the selected titles, change the `output_id` to the filename you want and run the next cell. \n",
    "This will create two csv files in the `selections` directory which contain info about the selected microfilms and hardcopies (two separate files)."
   ]
  },
  {
   "cell_type": "code",
   "execution_count": null,
   "metadata": {},
   "outputs": [],
   "source": [
    "# choose an ID for your selected titles\n",
    "output_id = \"2019-03-16_MY_LABEL\"\n",
    "path2outputs = os.path.join(\"datasets\", \"selections\")\n",
    "if not os.path.isdir(path2outputs):\n",
    "    os.makedirs(path2outputs)\n",
    "\n",
    "# Ensure Title.ID field is type str, or .to_csv will remove leading 0s\n",
    "selected_titles_microfilm['Title.ID'] = selected_titles_microfilm['Title.ID'].astype('str')\n",
    "selected_titles_hardcopy['Title.ID'] = selected_titles_hardcopy['Title.ID'].astype('str')\n",
    "\n",
    "selected_titles_microfilm.to_csv(os.path.join(path2outputs, \"{}_microfilm.csv\".format(output_id)), index=False)\n",
    "selected_titles_hardcopy.to_csv(os.path.join(path2outputs, \"{}_hardcopy.csv\".format(output_id)), index=False)"
   ]
  },
  {
   "cell_type": "code",
   "execution_count": null,
   "metadata": {},
   "outputs": [],
   "source": []
  }
 ],
 "metadata": {
  "kernelspec": {
   "display_name": "Python 3",
   "language": "python",
   "name": "python3"
  },
  "language_info": {
   "codemirror_mode": {
    "name": "ipython",
    "version": 3
   },
   "file_extension": ".py",
   "mimetype": "text/x-python",
   "name": "python",
   "nbconvert_exporter": "python",
   "pygments_lexer": "ipython3",
   "version": "3.6.8"
  }
 },
 "nbformat": 4,
 "nbformat_minor": 2
}
